{
 "cells": [
  {
   "cell_type": "code",
   "execution_count": 92,
   "id": "b3b26488",
   "metadata": {},
   "outputs": [],
   "source": [
    "import json\n",
    "import pandas as pd\n",
    "import re"
   ]
  },
  {
   "cell_type": "code",
   "execution_count": 9,
   "id": "5f22a72c",
   "metadata": {},
   "outputs": [],
   "source": [
    "def uploadFile():\n",
    "    tweets = []\n",
    "    for line in open('farmers-protest-tweets-2021-03-5.json', 'r'):\n",
    "        tweets.append(json.loads(line))\n",
    "    df = pd.DataFrame(tweets)\n",
    "    return df\n"
   ]
  },
  {
   "cell_type": "code",
   "execution_count": 29,
   "id": "987d07e3",
   "metadata": {},
   "outputs": [],
   "source": [
    "#top 10 tweets más retweeted\n",
    "\n",
    "def topRetweeted(data):\n",
    "    by_retweetCount = tweets.sort_values('retweetCount', ascending = False)\n",
    "    top10 = by_retweetCount.head(10)\n",
    "    print('-----------------Top10 retweeted tweets----------------')\n",
    "    print(top10)\n",
    "    print('-------------------------------------------------------')\n",
    "    \n",
    "    \n",
    "    \n",
    "    "
   ]
  },
  {
   "cell_type": "code",
   "execution_count": 11,
   "id": "05d888e6",
   "metadata": {},
   "outputs": [],
   "source": [
    "#top 10 usuarios que más tweets emitieron\n",
    "def topUsers(data):\n",
    "    df = pd.DataFrame()\n",
    "    df['username'] = data.user.apply(lambda x: x['username'])\n",
    "    df1 = df.groupby(['username'])['username'].count().reset_index(name=\"count\")\n",
    "    df2 =df1.sort_values('count', ascending = False)\n",
    "    print('-----------------Top10 users----------------')\n",
    "    print(df2.head(10))\n",
    "    print('-------------------------------------------------------')\n",
    "    "
   ]
  },
  {
   "cell_type": "code",
   "execution_count": 12,
   "id": "7756c218",
   "metadata": {},
   "outputs": [],
   "source": [
    "#top 10 dias con más tweets\n",
    "def topDate(data):\n",
    "    df = data.groupby(['date'])['date'].count().reset_index(name= 'count')\n",
    "    df1 = df1.sort_values('count', ascending = False)\n",
    "    \n",
    "    print('-----------------Top10 days----------------')\n",
    "    print(df1.head(10))\n",
    "    print('-------------------------------------------------------')\n",
    "    \n",
    "   "
   ]
  },
  {
   "cell_type": "code",
   "execution_count": 13,
   "id": "55b0ab1f",
   "metadata": {},
   "outputs": [],
   "source": [
    "#top 10 hashtags más usados\n",
    "def topHashtags(data):\n",
    "    \n",
    "    \n",
    "    pass"
   ]
  },
  {
   "cell_type": "code",
   "execution_count": 14,
   "id": "86532e30",
   "metadata": {},
   "outputs": [],
   "source": [
    "def main():\n",
    "    tweets = uploadFile()\n",
    "    topRetweeted(tweets)\n",
    "    topUsers(tweets)\n",
    "    topDate(tweets)\n",
    "    topHashtags(tweets)\n",
    "    return tweets\n",
    "    \n",
    "\n",
    "    \n",
    "    \n",
    "    "
   ]
  },
  {
   "cell_type": "code",
   "execution_count": 93,
   "id": "7d4a1367",
   "metadata": {},
   "outputs": [],
   "source": [
    "tweets = uploadFile()\n"
   ]
  },
  {
   "cell_type": "code",
   "execution_count": 94,
   "id": "7f0aade1",
   "metadata": {},
   "outputs": [
    {
     "data": {
      "text/plain": [
       "Index(['url', 'date', 'content', 'renderedContent', 'id', 'user', 'outlinks',\n",
       "       'tcooutlinks', 'replyCount', 'retweetCount', 'likeCount', 'quoteCount',\n",
       "       'conversationId', 'lang', 'source', 'sourceUrl', 'sourceLabel', 'media',\n",
       "       'retweetedTweet', 'quotedTweet', 'mentionedUsers'],\n",
       "      dtype='object')"
      ]
     },
     "execution_count": 94,
     "metadata": {},
     "output_type": "execute_result"
    }
   ],
   "source": [
    "tweets.columns"
   ]
  },
  {
   "cell_type": "code",
   "execution_count": 102,
   "id": "98fca6f8",
   "metadata": {},
   "outputs": [
    {
     "data": {
      "text/plain": [
       "0                              Support 👇\\n\\n#FarmersProtest\n",
       "1         Supporting farmers means supporting our countr...\n",
       "2         Support farmers if you are related to food #St...\n",
       "3         #StopHateAgainstFarmers support #FarmersProtes...\n",
       "4         You hate farmers I hate you, \\nif you love the...\n",
       "                                ...                        \n",
       "419502    We are calling on leaders to speak up against ...\n",
       "419503    Power💪🏻 of panchayat but our government still ...\n",
       "419504    @AmrinderSingh__ @CNN @cnni I’m coming to term...\n",
       "419505    What about the peaceful protests in Delhi........\n",
       "419506    This is the award government is giving to the ...\n",
       "Name: content, Length: 419507, dtype: object"
      ]
     },
     "execution_count": 102,
     "metadata": {},
     "output_type": "execute_result"
    }
   ],
   "source": [
    "tweets['content'].apply()"
   ]
  },
  {
   "cell_type": "code",
   "execution_count": 101,
   "id": "51cddfce",
   "metadata": {},
   "outputs": [
    {
     "data": {
      "text/html": [
       "<div>\n",
       "<style scoped>\n",
       "    .dataframe tbody tr th:only-of-type {\n",
       "        vertical-align: middle;\n",
       "    }\n",
       "\n",
       "    .dataframe tbody tr th {\n",
       "        vertical-align: top;\n",
       "    }\n",
       "\n",
       "    .dataframe thead th {\n",
       "        text-align: right;\n",
       "    }\n",
       "</style>\n",
       "<table border=\"1\" class=\"dataframe\">\n",
       "  <thead>\n",
       "    <tr style=\"text-align: right;\">\n",
       "      <th></th>\n",
       "      <th>date</th>\n",
       "      <th>count</th>\n",
       "    </tr>\n",
       "  </thead>\n",
       "  <tbody>\n",
       "    <tr>\n",
       "      <th>5139</th>\n",
       "      <td>2021-02-01T22:48:17+00:00</td>\n",
       "      <td>19</td>\n",
       "    </tr>\n",
       "    <tr>\n",
       "      <th>71204</th>\n",
       "      <td>2021-02-03T20:12:09+00:00</td>\n",
       "      <td>8</td>\n",
       "    </tr>\n",
       "    <tr>\n",
       "      <th>67376</th>\n",
       "      <td>2021-02-03T18:42:09+00:00</td>\n",
       "      <td>8</td>\n",
       "    </tr>\n",
       "    <tr>\n",
       "      <th>7946</th>\n",
       "      <td>2021-02-02T07:21:31+00:00</td>\n",
       "      <td>7</td>\n",
       "    </tr>\n",
       "    <tr>\n",
       "      <th>41623</th>\n",
       "      <td>2021-02-03T07:21:46+00:00</td>\n",
       "      <td>7</td>\n",
       "    </tr>\n",
       "    <tr>\n",
       "      <th>...</th>\n",
       "      <td>...</td>\n",
       "      <td>...</td>\n",
       "    </tr>\n",
       "    <tr>\n",
       "      <th>144410</th>\n",
       "      <td>2021-02-05T22:38:31+00:00</td>\n",
       "      <td>1</td>\n",
       "    </tr>\n",
       "    <tr>\n",
       "      <th>144411</th>\n",
       "      <td>2021-02-05T22:38:44+00:00</td>\n",
       "      <td>1</td>\n",
       "    </tr>\n",
       "    <tr>\n",
       "      <th>144412</th>\n",
       "      <td>2021-02-05T22:38:47+00:00</td>\n",
       "      <td>1</td>\n",
       "    </tr>\n",
       "    <tr>\n",
       "      <th>144413</th>\n",
       "      <td>2021-02-05T22:38:58+00:00</td>\n",
       "      <td>1</td>\n",
       "    </tr>\n",
       "    <tr>\n",
       "      <th>344944</th>\n",
       "      <td>2021-03-30T03:33:46+00:00</td>\n",
       "      <td>1</td>\n",
       "    </tr>\n",
       "  </tbody>\n",
       "</table>\n",
       "<p>344945 rows × 2 columns</p>\n",
       "</div>"
      ],
      "text/plain": [
       "                             date  count\n",
       "5139    2021-02-01T22:48:17+00:00     19\n",
       "71204   2021-02-03T20:12:09+00:00      8\n",
       "67376   2021-02-03T18:42:09+00:00      8\n",
       "7946    2021-02-02T07:21:31+00:00      7\n",
       "41623   2021-02-03T07:21:46+00:00      7\n",
       "...                           ...    ...\n",
       "144410  2021-02-05T22:38:31+00:00      1\n",
       "144411  2021-02-05T22:38:44+00:00      1\n",
       "144412  2021-02-05T22:38:47+00:00      1\n",
       "144413  2021-02-05T22:38:58+00:00      1\n",
       "344944  2021-03-30T03:33:46+00:00      1\n",
       "\n",
       "[344945 rows x 2 columns]"
      ]
     },
     "execution_count": 101,
     "metadata": {},
     "output_type": "execute_result"
    }
   ],
   "source": []
  },
  {
   "cell_type": "code",
   "execution_count": null,
   "id": "97d9a795",
   "metadata": {},
   "outputs": [],
   "source": []
  }
 ],
 "metadata": {
  "kernelspec": {
   "display_name": "Python 3 (ipykernel)",
   "language": "python",
   "name": "python3"
  },
  "language_info": {
   "codemirror_mode": {
    "name": "ipython",
    "version": 3
   },
   "file_extension": ".py",
   "mimetype": "text/x-python",
   "name": "python",
   "nbconvert_exporter": "python",
   "pygments_lexer": "ipython3",
   "version": "3.9.7"
  }
 },
 "nbformat": 4,
 "nbformat_minor": 5
}
