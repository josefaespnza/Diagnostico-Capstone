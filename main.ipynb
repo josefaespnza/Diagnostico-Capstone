{
 "cells": [
  {
   "cell_type": "code",
   "execution_count": 92,
   "id": "b3b26488",
   "metadata": {},
   "outputs": [],
   "source": [
    "\n",
    "import json\n",
    "import pandas as pd"
   ]
  },
  {
   "cell_type": "code",
   "execution_count": 9,
   "id": "5f22a72c",
   "metadata": {},
   "outputs": [],
   "source": [
    "def uploadFile():\n",
    "    tweets = []\n",
    "    for line in open('farmers-protest-tweets-2021-03-5.json', 'r'):\n",
    "        tweets.append(json.loads(line))\n",
    "    df = pd.DataFrame(tweets)\n",
    "    return df"
   ]
  },
  {
   "cell_type": "code",
   "execution_count": 29,
   "id": "987d07e3",
   "metadata": {},
   "outputs": [],
   "source": [
    "#top 10 tweets más retweeted\n",
    "\n",
    "def topRetweeted(data):\n",
    "    by_retweetCount = tweets.sort_values('retweetCount', ascending = False)\n",
    "    top10 = by_retweetCount.head(10)\n",
    "    print('-----------------Top10 retweeted tweets----------------')\n",
    "    print(top10)\n",
    "    print('-------------------------------------------------------')\n",
    "    \n",
    "    "
   ]
  },
  {
   "cell_type": "code",
   "execution_count": 11,
   "id": "05d888e6",
   "metadata": {},
   "outputs": [],
   "source": [
    "#top 10 usuarios que más tweets emitieron\n",
    "def topUsers(data):\n",
    "    df = pd.DataFrame()\n",
    "    df['username'] = data.user.apply(lambda x: x['username'])\n",
    "    df1 = df.groupby(['username'])['username'].count().reset_index(name=\"count\")\n",
    "    print('-----------------Top10 users----------------')\n",
    "    print(df1.head(10))\n",
    "    print('-------------------------------------------------------')\n",
    "    "
   ]
  },
  {
   "cell_type": "code",
   "execution_count": 12,
   "id": "7756c218",
   "metadata": {},
   "outputs": [],
   "source": [
    "#top 10 lugares con más tweets\n"
   ]
  },
  {
   "cell_type": "code",
   "execution_count": 13,
   "id": "55b0ab1f",
   "metadata": {},
   "outputs": [],
   "source": [
    "#top 10 hashtags más usados\n"
   ]
  },
  {
   "cell_type": "code",
   "execution_count": 14,
   "id": "86532e30",
   "metadata": {},
   "outputs": [],
   "source": [
    "def main():\n",
    "    tweets = uploadFile()\n",
    "    topRetweeted(tweets)\n",
    "    topUsers(tweets)\n",
    "    \n",
    "    return tweets\n",
    "    \n",
    "    \n",
    "\n",
    "    \n",
    "    \n",
    "    "
   ]
  },
  {
   "cell_type": "code",
   "execution_count": 27,
   "id": "7d4a1367",
   "metadata": {},
   "outputs": [],
   "source": [
    "tweets = uploadFile()\n",
    "\n",
    "#tweets.columns"
   ]
  },
  {
   "cell_type": "code",
   "execution_count": null,
   "id": "dd913cee",
   "metadata": {},
   "outputs": [],
   "source": []
  }
 ],
 "metadata": {
  "kernelspec": {
   "display_name": "Python 3 (ipykernel)",
   "language": "python",
   "name": "python3"
  },
  "language_info": {
   "codemirror_mode": {
    "name": "ipython",
    "version": 3
   },
   "file_extension": ".py",
   "mimetype": "text/x-python",
   "name": "python",
   "nbconvert_exporter": "python",
   "pygments_lexer": "ipython3",
   "version": "3.9.7"
  }
 },
 "nbformat": 4,
 "nbformat_minor": 5
}
