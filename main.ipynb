{
 "cells": [
  {
   "cell_type": "code",
   "execution_count": null,
   "id": "987d07e3",
   "metadata": {},
   "outputs": [],
   "source": [
    "#top 10 tweets más retweeted"
   ]
  },
  {
   "cell_type": "code",
   "execution_count": null,
   "id": "0a9c5f70",
   "metadata": {},
   "outputs": [],
   "source": [
    "#top 10 usuarios que más tweets emitieron"
   ]
  },
  {
   "cell_type": "code",
   "execution_count": null,
   "id": "aa5d39cb",
   "metadata": {},
   "outputs": [],
   "source": [
    "#top 10 lugares con más tweets"
   ]
  },
  {
   "cell_type": "code",
   "execution_count": null,
   "id": "bfbcd8a6",
   "metadata": {},
   "outputs": [],
   "source": [
    "#top 10 hashtags más usados"
   ]
  },
  {
   "cell_type": "code",
   "execution_count": null,
   "id": "2c133402",
   "metadata": {},
   "outputs": [],
   "source": [
    "def main():\n",
    "    "
   ]
  }
 ],
 "metadata": {
  "kernelspec": {
   "display_name": "Python 3 (ipykernel)",
   "language": "python",
   "name": "python3"
  },
  "language_info": {
   "codemirror_mode": {
    "name": "ipython",
    "version": 3
   },
   "file_extension": ".py",
   "mimetype": "text/x-python",
   "name": "python",
   "nbconvert_exporter": "python",
   "pygments_lexer": "ipython3",
   "version": "3.9.2"
  }
 },
 "nbformat": 4,
 "nbformat_minor": 5
}
