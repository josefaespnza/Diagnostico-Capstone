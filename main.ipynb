{
 "cells": [
  {
   "cell_type": "code",
   "execution_count": null,
   "id": "b3b26488",
   "metadata": {},
   "outputs": [],
   "source": [
    "import re"
   ]
  },
  {
   "cell_type": "code",
   "execution_count": null,
   "id": "987d07e3",
   "metadata": {},
   "outputs": [],
   "source": [
    "#top 10 tweets más retweeted\n",
    "def topRetweeted:\n",
    "    \n",
    "    "
   ]
  },
  {
   "cell_type": "code",
   "execution_count": null,
   "id": "05d888e6",
   "metadata": {},
   "outputs": [],
   "source": [
    "#top 10 usuarios que más tweets emitieron"
   ]
  },
  {
   "cell_type": "code",
   "execution_count": null,
   "id": "7756c218",
   "metadata": {},
   "outputs": [],
   "source": [
    "#top 10 lugares con más tweets"
   ]
  },
  {
   "cell_type": "code",
   "execution_count": null,
   "id": "55b0ab1f",
   "metadata": {},
   "outputs": [],
   "source": [
    "#top 10 hashtags más usados"
   ]
  },
  {
   "cell_type": "code",
   "execution_count": null,
   "id": "86532e30",
   "metadata": {},
   "outputs": [],
   "source": [
    "def main():\n",
    "    \n",
    "    "
   ]
  }
 ],
 "metadata": {
  "kernelspec": {
   "display_name": "Python 3 (ipykernel)",
   "language": "python",
   "name": "python3"
  },
  "language_info": {
   "codemirror_mode": {
    "name": "ipython",
    "version": 3
   },
   "file_extension": ".py",
   "mimetype": "text/x-python",
   "name": "python",
   "nbconvert_exporter": "python",
   "pygments_lexer": "ipython3",
   "version": "3.9.2"
  }
 },
 "nbformat": 4,
 "nbformat_minor": 5
}
